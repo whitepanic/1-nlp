{
  "nbformat": 4,
  "nbformat_minor": 0,
  "metadata": {
    "colab": {
      "provenance": [],
      "include_colab_link": true
    },
    "kernelspec": {
      "name": "python3",
      "display_name": "Python 3"
    },
    "language_info": {
      "name": "python"
    }
  },
  "cells": [
    {
      "cell_type": "markdown",
      "metadata": {
        "id": "view-in-github",
        "colab_type": "text"
      },
      "source": [
        "<a href=\"https://colab.research.google.com/github/whitepanic/1-nlp/blob/main/CrewAI_Youtube_%26_web_%EA%B8%B0%EB%B0%98_RAG_%EC%97%90%EC%9D%B4%EC%A0%84%ED%8A%B8.ipynb\" target=\"_parent\"><img src=\"https://colab.research.google.com/assets/colab-badge.svg\" alt=\"Open In Colab\"/></a>"
      ]
    },
    {
      "cell_type": "code",
      "execution_count": null,
      "metadata": {
        "collapsed": true,
        "id": "nScmIfqCwE9q"
      },
      "outputs": [],
      "source": [
        "!pip install -q -U crewai crewai_tools langchain_community youtube-transcript-api youtube-search faiss-cpu"
      ]
    },
    {
      "cell_type": "code",
      "source": [
        "import os\n",
        "from langchain_openai import ChatOpenAI\n",
        "from crewai_tools import YoutubeVideoSearchTool\n",
        "from langchain_community.tools.tavily_search import TavilySearchResults\n",
        "from crewai_tools  import tool\n",
        "from crewai import Crew, Task, Agent\n",
        "from google.colab import userdata"
      ],
      "metadata": {
        "id": "OsgQbmT02357"
      },
      "execution_count": null,
      "outputs": []
    },
    {
      "cell_type": "markdown",
      "source": [
        "#### Langchain YouTubeSearchTool을 활용해 영상 검색"
      ],
      "metadata": {
        "id": "7v0CfDSzsH8c"
      }
    },
    {
      "cell_type": "code",
      "source": [
        "from langchain_community.tools import YouTubeSearchTool\n",
        "youtube_search_tool = YouTubeSearchTool()\n",
        "youtube_search_tool.run(\"테디노트\")"
      ],
      "metadata": {
        "id": "24vnAHM9sC0V"
      },
      "execution_count": null,
      "outputs": []
    },
    {
      "cell_type": "markdown",
      "source": [
        "#### LLM 설정"
      ],
      "metadata": {
        "id": "IuXZdqHNsQ6p"
      }
    },
    {
      "cell_type": "code",
      "source": [
        "from google.colab import userdata\n",
        "#API키를 좌측 탭 열쇠를 눌러서 저장해주세요\n",
        "os.environ['OPENAI_API_KEY'] = userdata.get('OPENAI_API_KEY')\n",
        "\n",
        "llm = ChatOpenAI(model=\"gpt-4o-mini\")"
      ],
      "metadata": {
        "id": "QkOm-GQ-_v3_"
      },
      "execution_count": null,
      "outputs": []
    },
    {
      "cell_type": "markdown",
      "source": [
        "#### Youtube 스크립트로 RAG 실행하는 Custom Tool 정의"
      ],
      "metadata": {
        "id": "gxnrK3Posdr2"
      }
    },
    {
      "cell_type": "code",
      "source": [
        "from langchain_community.vectorstores import FAISS\n",
        "from langchain_openai import OpenAIEmbeddings\n",
        "from langchain_text_splitters import CharacterTextSplitter\n",
        "from langchain_community.document_loaders import YoutubeLoader\n",
        "from langchain_core.documents import Document\n",
        "import ast\n",
        "\n",
        "youtube_search_tool = YouTubeSearchTool()\n",
        "\n",
        "\n",
        "@tool\n",
        "def youtube_retriever(query:str) -> str:\n",
        "    \"\"\"\n",
        "    Retriever tool for the transcript of a YouTube video. query should be given in string format.\n",
        "    \"\"\"\n",
        "    #query에 해당하는 Youtube 비디오 URL 가져오기\n",
        "    urls = youtube_search_tool.run(query)\n",
        "    urls = ast.literal_eval(urls)\n",
        "    #URL 순회하면서 Document 객체에 내용 담기\n",
        "    docs = []\n",
        "    for url in urls:\n",
        "        loader = YoutubeLoader.from_youtube_url(\n",
        "        url,\n",
        "        add_video_info=True,\n",
        "        language=[\"en\", \"ko\"]\n",
        "        )\n",
        "        scripts = loader.load()\n",
        "        script_content = scripts[0].page_content\n",
        "        title=scripts[0].metadata['title']\n",
        "        author=scripts[0].metadata['author']\n",
        "        doc = Document(page_content=script_content, metadata={\"source\": url, \"title\":title, \"author\":author})\n",
        "        docs.append(doc)\n",
        "\n",
        "    #모든 비디오의 내용을 벡터DB에 담기\n",
        "    text_splitter = CharacterTextSplitter(chunk_size=1000, chunk_overlap=0)\n",
        "    texts = text_splitter.split_documents(docs)\n",
        "    embeddings = OpenAIEmbeddings()\n",
        "    db = FAISS.from_documents(texts, embeddings)\n",
        "    retriever = db.as_retriever()\n",
        "    retrieved_docs = retriever.invoke(query)\n",
        "\n",
        "    video_results = []\n",
        "\n",
        "    for doc in retrieved_docs:\n",
        "        title = doc.metadata.get('title', 'No title available')\n",
        "        author = doc.metadata.get('author', 'No author available')\n",
        "        script_content = doc.page_content\n",
        "\n",
        "        video_info = f\"\"\"\n",
        "        Video Information:\n",
        "        ------------------\n",
        "        Title: {title}\n",
        "        Author: {author}\n",
        "        Transcript:\n",
        "        {script_content}\n",
        "        ------------------\n",
        "        \"\"\"\n",
        "        video_results.append(video_info)\n",
        "\n",
        "    # Join all video results into a single string\n",
        "    all_video_results = \"\\n\\n\".join(video_results)\n",
        "\n",
        "    return all_video_results"
      ],
      "metadata": {
        "id": "9PVXgIkuErM0"
      },
      "execution_count": null,
      "outputs": []
    },
    {
      "cell_type": "code",
      "source": [
        "youtube_retriever.run(\"테디노트\")"
      ],
      "metadata": {
        "id": "6Otynyq3p_7l"
      },
      "execution_count": null,
      "outputs": []
    },
    {
      "cell_type": "markdown",
      "source": [
        "#### Web 검색 툴 정의"
      ],
      "metadata": {
        "id": "jy1cPE7ushO7"
      }
    },
    {
      "cell_type": "code",
      "source": [
        "os.environ['TAVILY_API_KEY'] = userdata.get('TAVILY_API_KEY')\n",
        "web_search_tool = TavilySearchResults(k=3)"
      ],
      "metadata": {
        "id": "s2tXivWC2xRg"
      },
      "execution_count": null,
      "outputs": []
    },
    {
      "cell_type": "markdown",
      "source": [
        "#### 에이전트 설정"
      ],
      "metadata": {
        "id": "Z5Mu9euVsklq"
      }
    },
    {
      "cell_type": "code",
      "source": [
        "# Agent definitions\n",
        "# query = \"테디노트는 누구인가요?\"\n",
        "video_analyzer = Agent(\n",
        "    role=\"Video Analyzer\",\n",
        "    goal=f\"\"\"\n",
        "    Analyze youtube videos about user's query: {query} and Analyze YouTube video transcripts and identify main topics,\n",
        "    key points, and areas needing further research. This is crucial for answering user's query.\n",
        "    \"\"\",\n",
        "    backstory=\"Expert in Youtube video analysis with a keen eye for identifying core themes and knowledge gaps\",\n",
        "    verbose=True,\n",
        "    max_iter=2,\n",
        "    llm=llm,\n",
        "    tools=[youtube_retriever]\n",
        ")\n",
        "\n",
        "researcher = Agent(\n",
        "    role=\"Web Researcher\",\n",
        "    goal=f\"Conduct web searches with query to find additional information on topics identified from the video to answer the user's query: {query}\",\n",
        "    backstory=\"Skilled internet researcher with a talent for finding reliable and relevant information quickly\",\n",
        "    verbose=True,\n",
        "    llm=llm,\n",
        "    max_iter=2,\n",
        "    tools=[web_search_tool]\n",
        ")\n",
        "\n",
        "rag_agent = Agent(\n",
        "    role=\"RAG Agent\",\n",
        "    goal=f\"\"\"Answer user's query: {query} based on video content analysis and additional research\n",
        "    If resources are not enough to answer the users' question, then you should command other agents for further research.\"\"\",\n",
        "    backstory=\"You are a helpful RAG Agent who should refer to the analysis of video analyzer and researcher.\",\n",
        "    llm=llm,\n",
        "    verbose=True\n",
        ")"
      ],
      "metadata": {
        "collapsed": true,
        "id": "R5DiRdZI2JwA"
      },
      "execution_count": null,
      "outputs": []
    },
    {
      "cell_type": "markdown",
      "source": [
        "#### Task 정의"
      ],
      "metadata": {
        "id": "gb-FZY0vsorK"
      }
    },
    {
      "cell_type": "code",
      "source": [
        "task1 = Task(\n",
        "    description=f\"\"\"Analyze the video transcript,\n",
        "    identify main topics, key points for each topic, and\n",
        "    list questions that need further research to answer user's {query}.\"\"\",\n",
        "    agent=video_analyzer,\n",
        "    expected_output=\"A detailed analysis of the video content including main topics, key points, and questions for answering user's query.\"\n",
        ")\n",
        "\n",
        "task2 = Task(\n",
        "    description=f\"\"\"Research the user query:{query} identified from the video analysis and provide findings with sources.\n",
        "    search query for web search tool should be string format.\"\"\",\n",
        "    agent=researcher,\n",
        "    expected_output=\"Comprehensive research findings for each identified question, including relevant information and sources(url needed).\"\n",
        ")\n",
        "\n",
        "task3 = Task(\n",
        "    description=f\"\"\"Answer the user's query: {query} with factful resources from video and web search result.\n",
        "    you should consider user's language to give great answer.\n",
        "    \"\"\",\n",
        "    agent=rag_agent,\n",
        "    expected_output=f\"\"\"A well-structured, engaging and concise answer to user's query: {query} based on the video content and additional research,\n",
        "    including a title, main content, and references(including URLs).\"\"\"\n",
        ")"
      ],
      "metadata": {
        "id": "30UPY6_APQoQ"
      },
      "execution_count": null,
      "outputs": []
    },
    {
      "cell_type": "markdown",
      "source": [
        "#### Crew 설정"
      ],
      "metadata": {
        "id": "w4J4B3lFsqtV"
      }
    },
    {
      "cell_type": "code",
      "source": [
        "# Create a crew with the tasks\n",
        "crew = Crew(\n",
        "    agents=[video_analyzer, researcher, rag_agent],\n",
        "    tasks=[task1, task2, task3],\n",
        "    verbose=True\n",
        ")"
      ],
      "metadata": {
        "id": "gPADgozDPRs6"
      },
      "execution_count": null,
      "outputs": []
    },
    {
      "cell_type": "code",
      "source": [
        "result = crew.kickoff(inputs={\"query\":\"테디노트는 누구인가요?\"})"
      ],
      "metadata": {
        "id": "BON55Ox0y70Z"
      },
      "execution_count": null,
      "outputs": []
    },
    {
      "cell_type": "code",
      "source": [
        "result.raw"
      ],
      "metadata": {
        "id": "GEoIRG2j8Hg3"
      },
      "execution_count": null,
      "outputs": []
    },
    {
      "cell_type": "markdown",
      "source": [
        "#### 마크다운 결과물 확인"
      ],
      "metadata": {
        "id": "vkw1pPs8ss2S"
      }
    },
    {
      "cell_type": "markdown",
      "source": [
        "### 테디노트는 누구인가요?\n",
        "\n",
        "테디노트(실명: 이경록)는 AI 개발 유튜버이자 교육자로, 데이터 분석, 머신러닝, 딥러닝, 대규모 언어 모델(LLM) 등 다양한 주제를 다룹니다. 그는 연구보다는 실제 개발에 중점을 두고 있으며, 특히 파이썬 프로그래밍과 관련된 콘텐츠에 집중하고 있습니다.\n",
        "\n",
        "그의 YouTube 채널에서는 RAG(Retriever Augmented Generation)와 같은 최신 AI 기술을 설명하고, LangChain을 활용한 AI 개발의 중요성을 강조합니다. 테디노트는 다양한 사례를 통해 기업들이 이러한 AI 기술을 어떻게 활용할 수 있는지를 보여주고 있습니다.\n",
        "\n",
        "또한, 그는 Udemy에서 여러 강의를 제공하고 있으며, 데이터 분석, 머신러닝, 딥러닝의 기초부터 실무 적용까지 포괄적인 내용을 다룹니다. 테디노트의 강의는 실습 중심의 학습을 지향하며, AI 개발에 관심이 있는 학생들과 개발자들에게 큰 도움이 되고 있습니다. 그의 경험과 지식은 많은 사람들에게 영감을 주고 있습니다.\n",
        "\n",
        "더 자세한 정보는 다음의 링크에서 확인하실 수 있습니다:\n",
        "- [Udemy 프로필](https://www.udemy.com/user/teddynote/)\n",
        "- [YouTube 채널](https://teddynote.com/)\n",
        "- [LinkedIn 프로필](https://kr.linkedin.com/in/teddy-lee)\n",
        "- [GitHub Lectures](https://teddylee777.github.io/lectures/)"
      ],
      "metadata": {
        "id": "I_vgvI8t8ZNb"
      }
    },
    {
      "cell_type": "code",
      "source": [],
      "metadata": {
        "id": "wmbx1B8drJiJ"
      },
      "execution_count": null,
      "outputs": []
    }
  ]
}